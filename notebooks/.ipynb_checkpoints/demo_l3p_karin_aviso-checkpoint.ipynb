{
 "cells": [
  {
   "cell_type": "markdown",
   "id": "edd18580-8b8d-4e1f-85b5-8c8f5f00e913",
   "metadata": {},
   "source": [
    "# Demo Notebook \n",
    "## for intercomparing AVISO maps geostrophic currents with across-track and along-track SWOT currents"
   ]
  },
  {
   "cell_type": "code",
   "execution_count": null,
   "id": "f2d88d3f-eb42-4c5d-b557-fe1bf5a2c54d",
   "metadata": {},
   "outputs": [],
   "source": [
    "import xarray as xr"
   ]
  },
  {
   "cell_type": "code",
   "execution_count": null,
   "id": "b93ec194-379e-4cd6-b17c-0153dcf4c219",
   "metadata": {},
   "outputs": [],
   "source": [
    "import logging\n",
    "logger = logging.getLogger()\n",
    "logger.setLevel(logging.INFO)"
   ]
  },
  {
   "cell_type": "code",
   "execution_count": null,
   "id": "e353653a-3d1b-4d95-980d-7c7e11e0627e",
   "metadata": {},
   "outputs": [],
   "source": [
    "import sys\n",
    "sys.path.append('..')\n",
    "from src.mod_calc import *\n",
    "from src.mod_plot import *"
   ]
  },
  {
   "cell_type": "markdown",
   "id": "bc1d65ce-b8f9-4b96-8460-f85db24dbe39",
   "metadata": {},
   "source": [
    "## Parameters"
   ]
  },
  {
   "cell_type": "code",
   "execution_count": null,
   "id": "a2083f0b-c3b8-4681-91a4-e780423147b1",
   "metadata": {},
   "outputs": [],
   "source": [
    "params = {\n",
    "    'dx' : 2000,                              # SWOT swath x-grid step in meters\n",
    "    'dy' : 2000,                              # SWOT swath y-grid step in meters\n",
    "    'stencil_npt' : 11, #9                    # stencil width: number of point for discretization\n",
    "    'filtrage_m' : 300000,                    # lenght scale (in meters) equatorial filtering\n",
    "    'lat_max_equator' : 10.,                  # maximum latitude (in degree) to consider for equatorial band processing (Recomm: not less than 10°)\n",
    "    'maxval_current' : 10.                    # (absolute) maximum value of surface currents in meter / second\n",
    "}"
   ]
  },
  {
   "cell_type": "markdown",
   "id": "53d03c20-22c2-40d7-b928-f5acc13c38ba",
   "metadata": {},
   "source": [
    "## Open SWOT swath"
   ]
  },
  {
   "cell_type": "code",
   "execution_count": null,
   "id": "1e6957ce-f156-4de7-8a05-fbf2483c1901",
   "metadata": {},
   "outputs": [],
   "source": [
    "filename = '../data/swot/aviso/SWOT_L2_LR_SSH_Expert_001_230_20160909T042119_20160909T051245_DG10_01.nc'\n",
    "ds_descending = xr.open_dataset(filename)\n",
    "filename = '../data/swot/aviso/SWOT_L2_LR_SSH_Expert_001_231_20160909T051246_20160909T060412_DG10_01.nc'\n",
    "ds_ascending = xr.open_dataset(filename)"
   ]
  },
  {
   "cell_type": "code",
   "execution_count": null,
   "id": "f822c727-9061-46af-affa-555a87b645e2",
   "metadata": {},
   "outputs": [],
   "source": [
    "ds_aviso_maps = xr.open_dataset('../data/aviso/dt_global_allsat_20160909.nc')"
   ]
  },
  {
   "cell_type": "markdown",
   "id": "ae1c79ec-61b8-40e0-943d-0f37841a8e9a",
   "metadata": {},
   "source": [
    "## Discretization scheme"
   ]
  },
  {
   "cell_type": "markdown",
   "id": "41c69a21-aac1-415b-8754-41d32443fc33",
   "metadata": {},
   "source": [
    "#### First derivative discretisation scheme "
   ]
  },
  {
   "cell_type": "code",
   "execution_count": null,
   "id": "476db439-f6b6-47d5-8d2a-f8469634b859",
   "metadata": {},
   "outputs": [],
   "source": [
    "show_discretisation_scheme(params['stencil_npt'], deriv=1)"
   ]
  },
  {
   "cell_type": "markdown",
   "id": "b29f4829-1767-4e86-bcbe-30fe3c8a1100",
   "metadata": {},
   "source": [
    "#### Second derivative discretisation scheme "
   ]
  },
  {
   "cell_type": "code",
   "execution_count": null,
   "id": "cf3631d9-8c62-4de4-a38e-59032af4c784",
   "metadata": {},
   "outputs": [],
   "source": [
    "show_discretisation_scheme(params['stencil_npt'], deriv=2)"
   ]
  },
  {
   "cell_type": "markdown",
   "id": "a56040ff-96fd-432e-8c48-e5189413eca8",
   "metadata": {},
   "source": [
    "## Compute geostrophic currents"
   ]
  },
  {
   "cell_type": "markdown",
   "id": "cac0326d-34dc-4edf-9266-e1666c24b596",
   "metadata": {},
   "source": [
    "### Descending track"
   ]
  },
  {
   "cell_type": "code",
   "execution_count": null,
   "id": "a44b8c0d-d372-4cf5-bf56-9f64d905387c",
   "metadata": {},
   "outputs": [],
   "source": [
    "u_final_descending, v_final_descending = compute_karin_geos_current(ds_descending.rename({'simulated_true_ssha_karin':'simulated_true_ssh_karin'}), params)"
   ]
  },
  {
   "cell_type": "code",
   "execution_count": null,
   "id": "b309cad6-3d46-4446-ac6b-a44c090ecbc8",
   "metadata": {},
   "outputs": [],
   "source": [
    "u_zonal_final_descending, v_meridional_final_descending = convert_to_zonal_meridional(u_final_descending, v_final_descending)"
   ]
  },
  {
   "cell_type": "code",
   "execution_count": null,
   "id": "b7778563-61a9-4665-b4e0-ab07d9259d40",
   "metadata": {},
   "outputs": [],
   "source": [
    "(u_final_descending.hvplot.quadmesh(x='longitude', \n",
    "                                    y='latitude', \n",
    "                                    clim=(-1., 1), \n",
    "                                    cmap='coolwarm', \n",
    "                                    datashade=True,\n",
    "                                    shared_axes=True, \n",
    "                                    xlim=(136, 143), \n",
    "                                    ylim=(10, 40),\n",
    "                                    title='Computed across-track geos. current') + u_zonal_final_descending.hvplot.quadmesh(x='longitude', \n",
    "                                                                                                                      y='latitude', \n",
    "                                                                                                                      clim=(-1., 1), \n",
    "                                                                                                                      cmap='coolwarm', \n",
    "                                                                                                                      datashade=True,\n",
    "                                                                                                                        xlim=(136, 143), \n",
    "                                                                                                                      ylim=(10, 40),\n",
    "                                                                                                                      title='SWOT Zonal current') + ds_aviso_maps.ugos.hvplot.quadmesh(x='longitude', \n",
    "                                                                                                                      y='latitude', \n",
    "                                                                                                                      clim=(-1., 1), \n",
    "                                                                                                                      cmap='coolwarm', \n",
    "                                                                                                                      datashade=True,\n",
    "                                                                                                                      shared_axes=True, \n",
    "                                                                                                                      xlim=(136, 143), \n",
    "                                                                                                                      ylim=(10, 40),\n",
    "                                                                                                                      title='AVISO maps Zonal current')\n",
    ").cols(1)"
   ]
  },
  {
   "cell_type": "code",
   "execution_count": null,
   "id": "15413965-90bb-4019-b900-6bfa9c887f82",
   "metadata": {},
   "outputs": [],
   "source": [
    "(v_final_descending.hvplot.quadmesh(x='longitude', \n",
    "                                    y='latitude', \n",
    "                                    clim=(-1., 1), \n",
    "                                    cmap='coolwarm', \n",
    "                                    datashade=True,\n",
    "                                    shared_axes=True, \n",
    "                                    xlim=(136, 143), \n",
    "                                    ylim=(10, 40),\n",
    "                                    title='Computed along-track geos. current') + v_meridional_final_descending.hvplot.quadmesh(x='longitude', \n",
    "                                                                                                                      y='latitude', \n",
    "                                                                                                                      clim=(-1., 1), \n",
    "                                                                                                                      cmap='coolwarm', \n",
    "                                                                                                                      datashade=True,\n",
    "                                                                                                                        xlim=(136, 143), \n",
    "                                                                                                                      ylim=(10, 40),\n",
    "                                                                                                                      title='SWOT Meridional current') + ds_aviso_maps.vgos.hvplot.quadmesh(x='longitude', \n",
    "                                                                                                                     y='latitude', \n",
    "                                                                                                                     clim=(-1., 1), \n",
    "                                                                                                                     cmap='coolwarm', \n",
    "                                                                                                                     datashade=True, \n",
    "                                                                                                                     shared_axes=True, \n",
    "                                                                                                                     xlim=(136, 143), \n",
    "                                                                                                                     ylim=(10, 40),\n",
    "                                                                                                                     title='AVISO maps Meridional current')\n",
    ").cols(1)"
   ]
  },
  {
   "cell_type": "markdown",
   "id": "48057101-2482-4152-a9b3-6def6b1be4d2",
   "metadata": {},
   "source": [
    "### Ascending track"
   ]
  },
  {
   "cell_type": "code",
   "execution_count": null,
   "id": "6fadccf8-c6ea-4cef-877e-5197d63a281a",
   "metadata": {},
   "outputs": [],
   "source": [
    "u_final_ascending, v_final_ascending = compute_karin_geos_current(ds_ascending.rename({'simulated_true_ssha_karin':'simulated_true_ssh_karin'}), params)"
   ]
  },
  {
   "cell_type": "code",
   "execution_count": null,
   "id": "2acaf006-628b-43f4-a99e-e1e184c6e235",
   "metadata": {},
   "outputs": [],
   "source": [
    "u_zonal_final_ascending, v_meridional_final_ascending = convert_to_zonal_meridional(u_final_ascending, v_final_ascending)"
   ]
  },
  {
   "cell_type": "code",
   "execution_count": null,
   "id": "e5d67029-1798-4c15-874a-2ce5813228e6",
   "metadata": {},
   "outputs": [],
   "source": [
    "def selection(ds, lon_min, mon_max, lat_min, lat_max):\n",
    "    ds_tmp = ds.where((ds.longitude >= lon_min) & (ds.longitude <= lon_max), drop=True)\n",
    "    ds_tmp = ds_tmp.where((ds_tmp.latitude >= lat_min) & (ds_tmp.latitude <= lat_max), drop=True)\n",
    "    return ds_tmp"
   ]
  },
  {
   "cell_type": "code",
   "execution_count": null,
   "id": "4a8280c5-7554-495a-8245-1d69d2c8093b",
   "metadata": {},
   "outputs": [],
   "source": [
    "lon_min = 315\n",
    "lon_max = 320\n",
    "lat_min = 30\n",
    "lat_max = 40"
   ]
  },
  {
   "cell_type": "code",
   "execution_count": null,
   "id": "74a54d88-1f78-4bb6-ba38-ddbcba100069",
   "metadata": {},
   "outputs": [],
   "source": [
    "(selection(u_final_ascending, lon_min, lon_max, lat_min, lat_max).hvplot.quadmesh(x='longitude', \n",
    "                                   y='latitude', \n",
    "                                   clim=(-0.5, 0.5), \n",
    "                                   cmap='coolwarm', \n",
    "                                   #datashade=True,\n",
    "                                   shared_axes=True, \n",
    "                                   xlim=(315, 320), \n",
    "                                   ylim=(30, 40),\n",
    "                                   title='Computed across-track geos. current') + selection(u_zonal_final_ascending, lon_min, lon_max, lat_min, lat_max).hvplot.quadmesh(x='longitude', \n",
    "                                                                                                                     y='latitude', \n",
    "                                                                                                                     clim=(-0.5, 0.5), \n",
    "                                                                                                                     cmap='coolwarm', \n",
    "                                                                                                                     #datashade=True,\n",
    "                                                                                                                     shared_axes=True, \n",
    "                                                                                                                     xlim=(315, 320), \n",
    "                                                                                                                     ylim=(30, 40),\n",
    "                                                                                                                     title='SWOT Zonal current') + selection(ds_aviso_maps, lon_min, lon_max, lat_min, lat_max).ugos.hvplot.quadmesh(x='longitude', \n",
    "                                                                                                                     y='latitude', \n",
    "                                                                                                                     clim=(-0.5, 0.5), \n",
    "                                                                                                                     cmap='coolwarm', \n",
    "                                                                                                                     #datashade=True,\n",
    "                                                                                                                     shared_axes=True, \n",
    "                                                                                                                     xlim=(315, 320), \n",
    "                                                                                                                     ylim=(30, 40),\n",
    "                                                                                                                     title='AVISO maps Zonal current')\n",
    ").cols(1)"
   ]
  },
  {
   "cell_type": "code",
   "execution_count": null,
   "id": "b293a55f-6eb1-4737-9387-208809f32470",
   "metadata": {},
   "outputs": [],
   "source": [
    "(v_final_ascending.hvplot.quadmesh(x='longitude', \n",
    "                                   y='latitude', \n",
    "                                   clim=(-1., 1), \n",
    "                                   cmap='coolwarm', \n",
    "                                   datashade=True,\n",
    "                                   shared_axes=True, \n",
    "                                   xlim=(315, 320), \n",
    "                                   ylim=(30, 40),\n",
    "                                   title='Computed along-track geos. current') + v_meridional_final_ascending.hvplot.quadmesh(x='longitude', \n",
    "                                   y='latitude', \n",
    "                                   clim=(-1., 1), \n",
    "                                   cmap='coolwarm', \n",
    "                                   datashade=True,\n",
    "                                   shared_axes=True, \n",
    "                                   xlim=(315, 320), \n",
    "                                   ylim=(30, 40),\n",
    "                                   title='SWOT Meridional current') + ds_aviso_maps.vgos.hvplot.quadmesh(x='longitude', \n",
    "                                                                                                                    y='latitude', \n",
    "                                                                                                                    clim=(-1., 1), \n",
    "                                                                                                                    cmap='coolwarm', \n",
    "                                                                                                                    datashade=True,\n",
    "                                                                                                                    shared_axes=True, \n",
    "                                                                                                                    xlim=(315, 320), \n",
    "                                                                                                                    ylim=(30, 40),\n",
    "                                                                                                                    title='AVISO maps Meridional current')\n",
    ").cols(1)"
   ]
  },
  {
   "cell_type": "code",
   "execution_count": null,
   "id": "03cd5b57-945d-46cc-98ad-4dc743645ffc",
   "metadata": {},
   "outputs": [],
   "source": []
  },
  {
   "cell_type": "code",
   "execution_count": null,
   "id": "e1620dd3-1af9-4a6c-b0e3-9095ef7466e8",
   "metadata": {},
   "outputs": [],
   "source": []
  }
 ],
 "metadata": {
  "kernelspec": {
   "display_name": "Pangeo Stable",
   "language": "python",
   "name": "pangeo_stable"
  },
  "language_info": {
   "codemirror_mode": {
    "name": "ipython",
    "version": 3
   },
   "file_extension": ".py",
   "mimetype": "text/x-python",
   "name": "python",
   "nbconvert_exporter": "python",
   "pygments_lexer": "ipython3",
   "version": "3.9.10"
  }
 },
 "nbformat": 4,
 "nbformat_minor": 5
}
